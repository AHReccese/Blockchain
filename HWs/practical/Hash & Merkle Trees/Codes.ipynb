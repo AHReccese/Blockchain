{
 "cells": [
  {
   "cell_type": "markdown",
   "metadata": {},
   "source": [
    "# Q1"
   ]
  },
  {
   "cell_type": "code",
   "execution_count": 2,
   "metadata": {},
   "outputs": [
    {
     "name": "stdout",
     "output_type": "stream",
     "text": [
      "98712725\n"
     ]
    }
   ],
   "source": [
    "import hashlib\n",
    "# A\n",
    "def H(number):\n",
    "    string = str(number)\n",
    "    return hashlib.sha256(string.encode()).hexdigest()[-5:]\n",
    "     \n",
    "myId = 96101635\n",
    "collision = myId + 1\n",
    "while(True):\n",
    "    if(H(collision) == H(myId)):\n",
    "        print(collision)\n",
    "        break\n",
    "    else:\n",
    "        collision = collision + 1"
   ]
  },
  {
   "cell_type": "code",
   "execution_count": 4,
   "metadata": {},
   "outputs": [
    {
     "name": "stdout",
     "output_type": "stream",
     "text": [
      "H(96101635) = 2a4b6\n",
      "H(98712725) = 2a4b6\n"
     ]
    }
   ],
   "source": [
    "print(\"H(96101635) = \" + str(H(96101635)))\n",
    "print(\"H(98712725) = \" + str(H(98712725)))"
   ]
  },
  {
   "cell_type": "code",
   "execution_count": 14,
   "metadata": {},
   "outputs": [
    {
     "name": "stdout",
     "output_type": "stream",
     "text": [
      "629013\n",
      "136188\n"
     ]
    }
   ],
   "source": [
    "# B\n",
    "import hashlib\n",
    "import random \n",
    "\n",
    "def getExpected(D):\n",
    "    n = 1\n",
    "    while(True):\n",
    "        expected = n - D + D*(((D-1)/D)**n)\n",
    "        if(expected >= 1):\n",
    "            return n\n",
    "        else:\n",
    "            n = n + 1\n",
    "            \n",
    "def H(number):\n",
    "    string = str(number)\n",
    "    return hashlib.sha256(string.encode()).hexdigest()[-5:]\n",
    "     \n",
    "def hashIndexDuplicates(Hs):\n",
    "    # Duplicate element indices in list \n",
    "    # Using set() + loop \n",
    "    oc_set = set() \n",
    "    res = [] \n",
    "    for idx, val in enumerate(Hs): \n",
    "        if val not in oc_set: \n",
    "            oc_set.add(val)          \n",
    "        else: \n",
    "            return idx\n",
    "    \n",
    "def findDuplicate(hash256,dic):\n",
    "    result = []\n",
    "    for key in dic.keys():\n",
    "        if(dic[key] == hash256):\n",
    "            result.append(key)\n",
    "    return result\n",
    "    \n",
    "def equalHashAttack(D):\n",
    "    #print(\"finding...\")\n",
    "    n = getExpected(D)\n",
    "    upper = D + 1\n",
    "    numbers = random.sample(range(0,upper), n)\n",
    "    Hdict = {number:H(number) for number in numbers}\n",
    "    values = list(Hdict.values())\n",
    "    if(len(set(values)) < n):\n",
    "        duplicated = hashIndexDuplicates(values)\n",
    "        hash256 = values[duplicated]\n",
    "        result = findDuplicate(hash256,Hdict)[0:2]\n",
    "        \n",
    "        print(result[0])\n",
    "        print(result[1])\n",
    "        return True\n",
    "    else:\n",
    "        return False\n",
    "\n",
    "D = 2**20\n",
    "while(not(equalHashAttack(D))):\n",
    "    continue"
   ]
  },
  {
   "cell_type": "code",
   "execution_count": 12,
   "metadata": {},
   "outputs": [
    {
     "name": "stdout",
     "output_type": "stream",
     "text": [
      "H(763181) = 138a9\n",
      "H(743982) = 138a9\n",
      "H(631908) = 77fbf\n",
      "H(998692) = 77fbf\n",
      "H(512732) = 05433\n",
      "H(104557) = 05433\n",
      "H(703967) = 9a174\n",
      "H(541384) = 9a174\n"
     ]
    }
   ],
   "source": [
    "# this numbers have been extracted from different runs of the above code.(part B's code)\n",
    "print(\"H(763181) = \" + str(H(763181)))\n",
    "print(\"H(743982) = \" + str(H(743982)))\n",
    "\n",
    "print(\"H(631908) = \" + str(H(631908)))\n",
    "print(\"H(998692) = \" + str(H(998692)))\n",
    "\n",
    "print(\"H(512732) = \" + str(H(512732)))\n",
    "print(\"H(104557) = \" + str(H(104557)))\n",
    "\n",
    "print(\"H(703967) = \" + str(H(703967)))\n",
    "print(\"H(541384) = \" + str(H(541384)))"
   ]
  },
  {
   "cell_type": "code",
   "execution_count": 16,
   "metadata": {},
   "outputs": [
    {
     "name": "stdout",
     "output_type": "stream",
     "text": [
      "Hi everybody,Are you all ok?\n",
      "The message has been changed!\n",
      "The message has been changed!\n"
     ]
    }
   ],
   "source": [
    "import hashlib\n",
    "\n",
    "def Hash(string):\n",
    "    return hashlib.sha256(string.encode()).hexdigest()\n",
    "     \n",
    "def sender(message,secretKey):\n",
    "    messageHash = Hash(message + secretKey)\n",
    "    output = [message,messageHash]\n",
    "    return output\n",
    "    \n",
    "def receiver(sentMessage,secretKey):\n",
    "    mainM = sentMessage[0]\n",
    "    msHash = sentMessage[1]\n",
    "    if(Hash(mainM + secretKey) == msHash):\n",
    "        return mainM\n",
    "    else:\n",
    "        return \"The message has been changed!\"\n",
    "\n",
    "# example everything is fine\n",
    "s = \"SimpleKey\"\n",
    "m = \"Hi everybody,Are you all ok?\"\n",
    "sentM = sender(m,s)\n",
    "result = receiver(sentM,s)\n",
    "print(result)\n",
    "\n",
    "# example2: using different secret_key(secretKey(sender)!=secretKey(receiver))\n",
    "s = \"SimpleKey\"\n",
    "m = \"Hi everybody,Are you all ok?\"\n",
    "sentM = sender(m,s)\n",
    "result = receiver(sentM,s + \"#\")\n",
    "print(result)\n",
    "\n",
    "# example3: mainMessage changed\n",
    "s = \"SimpleKey\"\n",
    "m = \"Hi everybody,Are you all ok?\"\n",
    "sentM = sender(m,s)\n",
    "sentM[0] = \"changed Message\"\n",
    "result = receiver(sentM,s)\n",
    "print(result)"
   ]
  },
  {
   "cell_type": "markdown",
   "metadata": {},
   "source": [
    "# Q2"
   ]
  },
  {
   "cell_type": "code",
   "execution_count": 19,
   "metadata": {},
   "outputs": [
    {
     "name": "stdout",
     "output_type": "stream",
     "text": [
      "5\n",
      "a\n",
      "b\n",
      "c\n",
      "d\n",
      "e\n",
      "Merkle tree Leaves: \n",
      "['a', 'b', 'c', 'd', 'e', 'e', 'd', 'c']\n",
      "Hex output of root: \n"
     ]
    },
    {
     "data": {
      "text/plain": [
       "'f07c53d7dc2bbc214618b2334719514b2e1eef990a58426f3c2cc38b48610d06'"
      ]
     },
     "execution_count": 19,
     "metadata": {},
     "output_type": "execute_result"
    }
   ],
   "source": [
    "import math\n",
    "import hashlib\n",
    "\n",
    "n = int(input().strip())\n",
    "merkleR = int(math.log2(n))\n",
    "if(not(2**merkleR == n)):\n",
    "    merkleR = merkleR + 1\n",
    "messages = []\n",
    "\n",
    "for i in range(n):\n",
    "    messages.append(input().strip())\n",
    "\n",
    "def upgradeLeaves(ms):\n",
    "    temp = []\n",
    "    for i in range(0,2**merkleR - len(ms)):\n",
    "        temp.append(ms[-(i+1)])\n",
    "    ms.extend(temp)\n",
    "    print(\"Merkle tree Leaves: \")\n",
    "    print(ms)\n",
    "\n",
    "def Hash(string):\n",
    "    return hashlib.sha256(string.encode()).hexdigest()\n",
    "     \n",
    "def addLayerHashes(layer,ms):\n",
    "    if(layer == 0):\n",
    "        return [Hash(ms[0]) + Hash(ms[1])]\n",
    "    else:\n",
    "        return [Hash(ms[2*i]) + Hash(ms[2*i+1]) for i in range(2*layer)]\n",
    "    \n",
    "def calculateRoot(ms):\n",
    "    depth = int(math.log2(len(ms)))\n",
    "    for layer in range(depth):\n",
    "        ms = addLayerHashes((depth-1)-layer,ms)\n",
    "    print(\"Hex output of root: \")\n",
    "    return Hash(ms[0])\n",
    "    \n",
    "upgradeLeaves(messages)\n",
    "calculateRoot(messages)"
   ]
  },
  {
   "cell_type": "markdown",
   "metadata": {},
   "source": [
    "# Q3"
   ]
  },
  {
   "cell_type": "code",
   "execution_count": 22,
   "metadata": {},
   "outputs": [
    {
     "name": "stdout",
     "output_type": "stream",
     "text": [
      "5\n",
      "4\n",
      "e\n",
      "3f79bb7b435b05321651daefd374cdc681dc06faa65e374e38337b88ca046dea\n",
      "3474e6da9272c8c6282c1fcd66ae507af47c831286b0ac7bd718f7d37738a2f7\n",
      "58c89d709329eb37285837b042ab6ff72c7c8f74de0446b091b6a0131c102cff\n",
      "f07c53d7dc2bbc214618b2334719514b2e1eef990a58426f3c2cc38b48610d06\n",
      "Did not exist\n"
     ]
    }
   ],
   "source": [
    "import math\n",
    "import hashlib \n",
    "\n",
    "def upgradeLeaves(ms):\n",
    "    temp = []\n",
    "    for i in range(0,2**merkleR - len(ms)):\n",
    "        temp.append(ms[-(i+1)])\n",
    "    ms.extend(temp)\n",
    "    print(ms)\n",
    "    \n",
    "def Hash(string):\n",
    "    return hashlib.sha256(string.encode()).hexdigest()\n",
    "     \n",
    "def addLayerHashes(layer,ms):\n",
    "    if(layer == 0):\n",
    "        return [Hash(ms[0]) + Hash(ms[1])]\n",
    "    else:\n",
    "        return [Hash(ms[2*i]) + Hash(ms[2*i+1]) for i in range(2*layer)]\n",
    "    \n",
    "def calculateRoot(ms):\n",
    "    depth = int(math.log2(len(ms)))\n",
    "    for layer in range(depth):\n",
    "        ms = addLayerHashes((depth-1)-layer,ms)\n",
    "    print(\"Hex output of root: \")\n",
    "    return Hash(ms[0])\n",
    "    \n",
    "n = int(input().strip())\n",
    "merkleR = int(math.log2(n))\n",
    "\n",
    "if(not(2**merkleR == n)):\n",
    "    merkleR = merkleR + 1\n",
    "    \n",
    "answers = []\n",
    "index = int(input().strip())\n",
    "for i in range(merkleR + 2):\n",
    "    answers.append(input().strip())\n",
    "\n",
    "for _ in range(merkleR): \n",
    "    if(index%2 == 0):\n",
    "        answers[1] = Hash(answers[0]) + answers[1]\n",
    "    else:\n",
    "        answers[1] = answers[1] + Hash(answers[0])\n",
    "    index = int(index/2)\n",
    "    answers = answers[1:]\n",
    "\n",
    "calculatedRoot = Hash(answers[0]) # should be equal to root\n",
    "if(calculatedRoot == answers[-1]):\n",
    "    print(\"Existed\")\n",
    "else:\n",
    "    print(\"Did not exist\")\n",
    "\n",
    "# First Example\n",
    "# \"exist\" Example\n",
    "# 5 : number of leaves \n",
    "# 4 : index of file to be authenicated : index \n",
    "# e : content of file with above index : 1st value\n",
    "# 3f79bb7b435b05321651daefd374cdc681dc06faa65e374e38337b88ca046dea : 2th value\n",
    "# 3474e6da9272c8c6282c1fcd66ae507af47c831286b0ac7bd718f7d37738a2f7 : 3th value\n",
    "# 58c89d709329eb37285837b042ab6ff72c7c8f74de0446b091b6a0131c102cfd : 4th value\n",
    "# f07c53d7dc2bbc214618b2334719514b2e1eef990a58426f3c2cc38b48610d06 : 5th value\n",
    "\n",
    "# Second example\n",
    "# \"Did not exist\" Example\n",
    "# 5 : number of leaves \n",
    "# 4 : index of file to be authenicated : index \n",
    "# e : content of file with above index : 1st value\n",
    "# 3f79bb7b435b05321651daefd374cdc681dc06faa65e374e38337b88ca046dea : 2th value\n",
    "# 3474e6da9272c8c6282c1fcd66ae507af47c831286b0ac7bd718f7d37738a2f7 : 3th value\n",
    "# 58c89d709329eb37285837b042ab6ff72c7c8f74de0446b091b6a0131c102cff : 4th value (last byte changed from d to f)\n",
    "# f07c53d7dc2bbc214618b2334719514b2e1eef990a58426f3c2cc38b48610d06 : 5th value\n"
   ]
  },
  {
   "cell_type": "code",
   "execution_count": null,
   "metadata": {},
   "outputs": [],
   "source": []
  }
 ],
 "metadata": {
  "kernelspec": {
   "display_name": "Python 3",
   "language": "python",
   "name": "python3"
  },
  "language_info": {
   "codemirror_mode": {
    "name": "ipython",
    "version": 3
   },
   "file_extension": ".py",
   "mimetype": "text/x-python",
   "name": "python",
   "nbconvert_exporter": "python",
   "pygments_lexer": "ipython3",
   "version": "3.7.4"
  }
 },
 "nbformat": 4,
 "nbformat_minor": 2
}
